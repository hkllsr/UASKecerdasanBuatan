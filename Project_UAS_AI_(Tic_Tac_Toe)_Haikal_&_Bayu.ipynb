{
  "nbformat": 4,
  "nbformat_minor": 0,
  "metadata": {
    "colab": {
      "provenance": []
    },
    "kernelspec": {
      "name": "python3",
      "display_name": "Python 3"
    },
    "language_info": {
      "name": "python"
    }
  },
  "cells": [
    {
      "cell_type": "code",
      "source": [
        "import random\n",
        "\n",
        "# Fungsi untuk mencetak papan Tic-Tac-Toe\n",
        "def cetak_papan(papan):\n",
        "    for baris in papan:\n",
        "        print(\" | \".join(baris))\n",
        "        print(\"-\" * 5)"
      ],
      "metadata": {
        "id": "d7a5tKnAB9Ay"
      },
      "execution_count": null,
      "outputs": []
    },
    {
      "cell_type": "code",
      "source": [
        "# Fungsi untuk memeriksa kemenangan\n",
        "def cek_menang(papan, pemain):\n",
        "    # Memeriksa baris, kolom, dan diagonal untuk kemenangan\n",
        "    for i in range(3):\n",
        "        if all([sel == pemain for sel in papan[i]]):  # Memeriksa baris\n",
        "            return True\n",
        "        if all([papan[j][i] == pemain for j in range(3)]):  # Memeriksa kolom\n",
        "            return True\n",
        "    if all([papan[i][i] == pemain for i in range(3)]):  # Memeriksa diagonal utama\n",
        "        return True\n",
        "    if all([papan[i][2 - i] == pemain for i in range(3)]):  # Memeriksa diagonal sekunder\n",
        "        return True\n",
        "    return False"
      ],
      "metadata": {
        "id": "mB9FhkqNCbBw"
      },
      "execution_count": null,
      "outputs": []
    },
    {
      "cell_type": "code",
      "source": [
        "# Fungsi untuk memeriksa seri\n",
        "def cek_seri(papan):\n",
        "    return all([sel in ['X', 'O'] for baris in papan for sel in baris])"
      ],
      "metadata": {
        "id": "V8NRL4uNCc-o"
      },
      "execution_count": null,
      "outputs": []
    },
    {
      "cell_type": "code",
      "source": [
        "# Fungsi untuk membuat gerakan\n",
        "def buat_gerakan(papan, pemain, baris, kolom):\n",
        "    if papan[baris][kolom] == ' ':\n",
        "        papan[baris][kolom] = pemain\n",
        "        return True\n",
        "    else:\n",
        "        print(\"Gerakan tidak sah! Sel sudah diisi.\")\n",
        "        return False\n"
      ],
      "metadata": {
        "id": "4ZtWM7x6CfGc"
      },
      "execution_count": null,
      "outputs": []
    },
    {
      "cell_type": "code",
      "source": [
        "# Fungsi untuk bot membuat gerakan\n",
        "def gerakan_bot(papan):\n",
        "    pilihan = [(i, j) for i in range(3) for j in range(3) if papan[i][j] == ' ']\n",
        "    baris, kolom = random.choice(pilihan)\n",
        "    papan[baris][kolom] = 'O'"
      ],
      "metadata": {
        "id": "9c_N4feHCimr"
      },
      "execution_count": null,
      "outputs": []
    },
    {
      "cell_type": "code",
      "source": [
        "# Fungsi utama untuk memainkan permainan\n",
        "def mainkan_permainan():\n",
        "    papan = [[' ' for _ in range(3)] for _ in range(3)]\n",
        "    pemain_saat_ini = 'X'\n",
        "    while True:\n",
        "        cetak_papan(papan)\n",
        "        if pemain_saat_ini == 'X':\n",
        "            print(\"Giliran pemain X:\")\n",
        "            baris = int(input(\"Masukkan baris (0, 1, atau 2): \"))\n",
        "            kolom = int(input(\"Masukkan kolom (0, 1, atau 2): \"))\n",
        "            if buat_gerakan(papan, pemain_saat_ini, baris, kolom):\n",
        "                if cek_menang(papan, pemain_saat_ini):\n",
        "                    cetak_papan(papan)\n",
        "                    print(\"Pemain X menang!\")\n",
        "                    break\n",
        "                elif cek_seri(papan):\n",
        "                    cetak_papan(papan)\n",
        "                    print(\"Permainan seri!\")\n",
        "                    break\n",
        "                pemain_saat_ini = 'O'\n",
        "        else:\n",
        "            print(\"Giliran bot (O):\")\n",
        "            gerakan_bot(papan)\n",
        "            if cek_menang(papan, 'O'):\n",
        "                cetak_papan(papan)\n",
        "                print(\"Bot menang!\")\n",
        "                break\n",
        "            elif cek_seri(papan):\n",
        "                cetak_papan(papan)\n",
        "                print(\"Permainan seri!\")\n",
        "                break\n",
        "            pemain_saat_ini = 'X'"
      ],
      "metadata": {
        "id": "z3jZQauhCk0H"
      },
      "execution_count": null,
      "outputs": []
    },
    {
      "cell_type": "code",
      "source": [
        "mainkan_permainan()"
      ],
      "metadata": {
        "id": "t7UjsAVRCrZ5",
        "colab": {
          "base_uri": "https://localhost:8080/"
        },
        "outputId": "0dea217a-f81a-4b98-a06b-1d69f7a8a93f"
      },
      "execution_count": null,
      "outputs": [
        {
          "output_type": "stream",
          "name": "stdout",
          "text": [
            "  |   |  \n",
            "-----\n",
            "  |   |  \n",
            "-----\n",
            "  |   |  \n",
            "-----\n",
            "Giliran pemain X:\n",
            "Masukkan baris (0, 1, atau 2): 0\n",
            "Masukkan kolom (0, 1, atau 2): 2\n",
            "  |   | X\n",
            "-----\n",
            "  |   |  \n",
            "-----\n",
            "  |   |  \n",
            "-----\n",
            "Giliran bot (O):\n",
            "O |   | X\n",
            "-----\n",
            "  |   |  \n",
            "-----\n",
            "  |   |  \n",
            "-----\n",
            "Giliran pemain X:\n",
            "Masukkan baris (0, 1, atau 2): 1\n",
            "Masukkan kolom (0, 1, atau 2): 1\n",
            "O |   | X\n",
            "-----\n",
            "  | X |  \n",
            "-----\n",
            "  |   |  \n",
            "-----\n",
            "Giliran bot (O):\n",
            "O |   | X\n",
            "-----\n",
            "  | X |  \n",
            "-----\n",
            "O |   |  \n",
            "-----\n",
            "Giliran pemain X:\n",
            "Masukkan baris (0, 1, atau 2): 1\n",
            "Masukkan kolom (0, 1, atau 2): 0\n",
            "O |   | X\n",
            "-----\n",
            "X | X |  \n",
            "-----\n",
            "O |   |  \n",
            "-----\n",
            "Giliran bot (O):\n",
            "O |   | X\n",
            "-----\n",
            "X | X | O\n",
            "-----\n",
            "O |   |  \n",
            "-----\n",
            "Giliran pemain X:\n",
            "Masukkan baris (0, 1, atau 2): 0\n",
            "Masukkan kolom (0, 1, atau 2): 1\n",
            "O | X | X\n",
            "-----\n",
            "X | X | O\n",
            "-----\n",
            "O |   |  \n",
            "-----\n",
            "Giliran bot (O):\n",
            "O | X | X\n",
            "-----\n",
            "X | X | O\n",
            "-----\n",
            "O |   | O\n",
            "-----\n",
            "Giliran pemain X:\n",
            "Masukkan baris (0, 1, atau 2): 2\n",
            "Masukkan kolom (0, 1, atau 2): 1\n",
            "O | X | X\n",
            "-----\n",
            "X | X | O\n",
            "-----\n",
            "O | X | O\n",
            "-----\n",
            "Pemain X menang!\n"
          ]
        }
      ]
    },
    {
      "cell_type": "code",
      "source": [
        "mainkan_permainan()"
      ],
      "metadata": {
        "colab": {
          "base_uri": "https://localhost:8080/"
        },
        "id": "I_goCTycCvpd",
        "outputId": "41db8e74-c2d3-400b-b23d-1dd39c1308d8"
      },
      "execution_count": null,
      "outputs": [
        {
          "output_type": "stream",
          "name": "stdout",
          "text": [
            "  |   |  \n",
            "-----\n",
            "  |   |  \n",
            "-----\n",
            "  |   |  \n",
            "-----\n",
            "Giliran pemain X:\n",
            "Masukkan baris (0, 1, atau 2): 1\n",
            "Masukkan kolom (0, 1, atau 2): 1\n",
            "  |   |  \n",
            "-----\n",
            "  | X |  \n",
            "-----\n",
            "  |   |  \n",
            "-----\n",
            "Giliran bot (O):\n",
            "  |   |  \n",
            "-----\n",
            "  | X |  \n",
            "-----\n",
            "  |   | O\n",
            "-----\n",
            "Giliran pemain X:\n",
            "Masukkan baris (0, 1, atau 2): 0\n",
            "Masukkan kolom (0, 1, atau 2): 1\n",
            "  | X |  \n",
            "-----\n",
            "  | X |  \n",
            "-----\n",
            "  |   | O\n",
            "-----\n",
            "Giliran bot (O):\n",
            "O | X |  \n",
            "-----\n",
            "  | X |  \n",
            "-----\n",
            "  |   | O\n",
            "-----\n",
            "Giliran pemain X:\n",
            "Masukkan baris (0, 1, atau 2): 2\n",
            "Masukkan kolom (0, 1, atau 2): 1\n",
            "O | X |  \n",
            "-----\n",
            "  | X |  \n",
            "-----\n",
            "  | X | O\n",
            "-----\n",
            "Pemain X menang!\n"
          ]
        }
      ]
    },
    {
      "cell_type": "code",
      "source": [],
      "metadata": {
        "id": "91f2X7oWDCa5"
      },
      "execution_count": null,
      "outputs": []
    }
  ]
}